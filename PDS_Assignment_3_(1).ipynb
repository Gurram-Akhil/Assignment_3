{
  "cells": [
    {
      "cell_type": "code",
      "execution_count": 1,
      "id": "98dbaa4d",
      "metadata": {
        "id": "98dbaa4d"
      },
      "outputs": [],
      "source": [
        "import pandas as pd\n",
        "import numpy as np\n",
        "import matplotlib.pyplot as plt"
      ]
    },
    {
      "cell_type": "code",
      "execution_count": 3,
      "id": "b1c2f236",
      "metadata": {
        "colab": {
          "base_uri": "https://localhost:8080/",
          "height": 206
        },
        "id": "b1c2f236",
        "outputId": "c2e7e477-a306-467c-c0a0-c98548686be6"
      },
      "outputs": [
        {
          "output_type": "execute_result",
          "data": {
            "text/plain": [
              "   Pregnancies  Glucose  BloodPressure  SkinThickness  Insulin   BMI  \\\n",
              "0            6      148             72             35        0  33.6   \n",
              "1            1       85             66             29        0  26.6   \n",
              "2            8      183             64              0        0  23.3   \n",
              "3            1       89             66             23       94  28.1   \n",
              "4            0      137             40             35      168  43.1   \n",
              "\n",
              "   DiabetesPedigreeFunction  Age  Outcome  \n",
              "0                     0.627   50        1  \n",
              "1                     0.351   31        0  \n",
              "2                     0.672   32        1  \n",
              "3                     0.167   21        0  \n",
              "4                     2.288   33        1  "
            ],
            "text/html": [
              "\n",
              "  <div id=\"df-cd77c614-a2dd-4ac6-a5a3-3597f28f1f50\" class=\"colab-df-container\">\n",
              "    <div>\n",
              "<style scoped>\n",
              "    .dataframe tbody tr th:only-of-type {\n",
              "        vertical-align: middle;\n",
              "    }\n",
              "\n",
              "    .dataframe tbody tr th {\n",
              "        vertical-align: top;\n",
              "    }\n",
              "\n",
              "    .dataframe thead th {\n",
              "        text-align: right;\n",
              "    }\n",
              "</style>\n",
              "<table border=\"1\" class=\"dataframe\">\n",
              "  <thead>\n",
              "    <tr style=\"text-align: right;\">\n",
              "      <th></th>\n",
              "      <th>Pregnancies</th>\n",
              "      <th>Glucose</th>\n",
              "      <th>BloodPressure</th>\n",
              "      <th>SkinThickness</th>\n",
              "      <th>Insulin</th>\n",
              "      <th>BMI</th>\n",
              "      <th>DiabetesPedigreeFunction</th>\n",
              "      <th>Age</th>\n",
              "      <th>Outcome</th>\n",
              "    </tr>\n",
              "  </thead>\n",
              "  <tbody>\n",
              "    <tr>\n",
              "      <th>0</th>\n",
              "      <td>6</td>\n",
              "      <td>148</td>\n",
              "      <td>72</td>\n",
              "      <td>35</td>\n",
              "      <td>0</td>\n",
              "      <td>33.6</td>\n",
              "      <td>0.627</td>\n",
              "      <td>50</td>\n",
              "      <td>1</td>\n",
              "    </tr>\n",
              "    <tr>\n",
              "      <th>1</th>\n",
              "      <td>1</td>\n",
              "      <td>85</td>\n",
              "      <td>66</td>\n",
              "      <td>29</td>\n",
              "      <td>0</td>\n",
              "      <td>26.6</td>\n",
              "      <td>0.351</td>\n",
              "      <td>31</td>\n",
              "      <td>0</td>\n",
              "    </tr>\n",
              "    <tr>\n",
              "      <th>2</th>\n",
              "      <td>8</td>\n",
              "      <td>183</td>\n",
              "      <td>64</td>\n",
              "      <td>0</td>\n",
              "      <td>0</td>\n",
              "      <td>23.3</td>\n",
              "      <td>0.672</td>\n",
              "      <td>32</td>\n",
              "      <td>1</td>\n",
              "    </tr>\n",
              "    <tr>\n",
              "      <th>3</th>\n",
              "      <td>1</td>\n",
              "      <td>89</td>\n",
              "      <td>66</td>\n",
              "      <td>23</td>\n",
              "      <td>94</td>\n",
              "      <td>28.1</td>\n",
              "      <td>0.167</td>\n",
              "      <td>21</td>\n",
              "      <td>0</td>\n",
              "    </tr>\n",
              "    <tr>\n",
              "      <th>4</th>\n",
              "      <td>0</td>\n",
              "      <td>137</td>\n",
              "      <td>40</td>\n",
              "      <td>35</td>\n",
              "      <td>168</td>\n",
              "      <td>43.1</td>\n",
              "      <td>2.288</td>\n",
              "      <td>33</td>\n",
              "      <td>1</td>\n",
              "    </tr>\n",
              "  </tbody>\n",
              "</table>\n",
              "</div>\n",
              "    <div class=\"colab-df-buttons\">\n",
              "\n",
              "  <div class=\"colab-df-container\">\n",
              "    <button class=\"colab-df-convert\" onclick=\"convertToInteractive('df-cd77c614-a2dd-4ac6-a5a3-3597f28f1f50')\"\n",
              "            title=\"Convert this dataframe to an interactive table.\"\n",
              "            style=\"display:none;\">\n",
              "\n",
              "  <svg xmlns=\"http://www.w3.org/2000/svg\" height=\"24px\" viewBox=\"0 -960 960 960\">\n",
              "    <path d=\"M120-120v-720h720v720H120Zm60-500h600v-160H180v160Zm220 220h160v-160H400v160Zm0 220h160v-160H400v160ZM180-400h160v-160H180v160Zm440 0h160v-160H620v160ZM180-180h160v-160H180v160Zm440 0h160v-160H620v160Z\"/>\n",
              "  </svg>\n",
              "    </button>\n",
              "\n",
              "  <style>\n",
              "    .colab-df-container {\n",
              "      display:flex;\n",
              "      gap: 12px;\n",
              "    }\n",
              "\n",
              "    .colab-df-convert {\n",
              "      background-color: #E8F0FE;\n",
              "      border: none;\n",
              "      border-radius: 50%;\n",
              "      cursor: pointer;\n",
              "      display: none;\n",
              "      fill: #1967D2;\n",
              "      height: 32px;\n",
              "      padding: 0 0 0 0;\n",
              "      width: 32px;\n",
              "    }\n",
              "\n",
              "    .colab-df-convert:hover {\n",
              "      background-color: #E2EBFA;\n",
              "      box-shadow: 0px 1px 2px rgba(60, 64, 67, 0.3), 0px 1px 3px 1px rgba(60, 64, 67, 0.15);\n",
              "      fill: #174EA6;\n",
              "    }\n",
              "\n",
              "    .colab-df-buttons div {\n",
              "      margin-bottom: 4px;\n",
              "    }\n",
              "\n",
              "    [theme=dark] .colab-df-convert {\n",
              "      background-color: #3B4455;\n",
              "      fill: #D2E3FC;\n",
              "    }\n",
              "\n",
              "    [theme=dark] .colab-df-convert:hover {\n",
              "      background-color: #434B5C;\n",
              "      box-shadow: 0px 1px 3px 1px rgba(0, 0, 0, 0.15);\n",
              "      filter: drop-shadow(0px 1px 2px rgba(0, 0, 0, 0.3));\n",
              "      fill: #FFFFFF;\n",
              "    }\n",
              "  </style>\n",
              "\n",
              "    <script>\n",
              "      const buttonEl =\n",
              "        document.querySelector('#df-cd77c614-a2dd-4ac6-a5a3-3597f28f1f50 button.colab-df-convert');\n",
              "      buttonEl.style.display =\n",
              "        google.colab.kernel.accessAllowed ? 'block' : 'none';\n",
              "\n",
              "      async function convertToInteractive(key) {\n",
              "        const element = document.querySelector('#df-cd77c614-a2dd-4ac6-a5a3-3597f28f1f50');\n",
              "        const dataTable =\n",
              "          await google.colab.kernel.invokeFunction('convertToInteractive',\n",
              "                                                    [key], {});\n",
              "        if (!dataTable) return;\n",
              "\n",
              "        const docLinkHtml = 'Like what you see? Visit the ' +\n",
              "          '<a target=\"_blank\" href=https://colab.research.google.com/notebooks/data_table.ipynb>data table notebook</a>'\n",
              "          + ' to learn more about interactive tables.';\n",
              "        element.innerHTML = '';\n",
              "        dataTable['output_type'] = 'display_data';\n",
              "        await google.colab.output.renderOutput(dataTable, element);\n",
              "        const docLink = document.createElement('div');\n",
              "        docLink.innerHTML = docLinkHtml;\n",
              "        element.appendChild(docLink);\n",
              "      }\n",
              "    </script>\n",
              "  </div>\n",
              "\n",
              "\n",
              "<div id=\"df-d6b3501b-7e52-41e8-8947-4489a116eb24\">\n",
              "  <button class=\"colab-df-quickchart\" onclick=\"quickchart('df-d6b3501b-7e52-41e8-8947-4489a116eb24')\"\n",
              "            title=\"Suggest charts\"\n",
              "            style=\"display:none;\">\n",
              "\n",
              "<svg xmlns=\"http://www.w3.org/2000/svg\" height=\"24px\"viewBox=\"0 0 24 24\"\n",
              "     width=\"24px\">\n",
              "    <g>\n",
              "        <path d=\"M19 3H5c-1.1 0-2 .9-2 2v14c0 1.1.9 2 2 2h14c1.1 0 2-.9 2-2V5c0-1.1-.9-2-2-2zM9 17H7v-7h2v7zm4 0h-2V7h2v10zm4 0h-2v-4h2v4z\"/>\n",
              "    </g>\n",
              "</svg>\n",
              "  </button>\n",
              "\n",
              "<style>\n",
              "  .colab-df-quickchart {\n",
              "      --bg-color: #E8F0FE;\n",
              "      --fill-color: #1967D2;\n",
              "      --hover-bg-color: #E2EBFA;\n",
              "      --hover-fill-color: #174EA6;\n",
              "      --disabled-fill-color: #AAA;\n",
              "      --disabled-bg-color: #DDD;\n",
              "  }\n",
              "\n",
              "  [theme=dark] .colab-df-quickchart {\n",
              "      --bg-color: #3B4455;\n",
              "      --fill-color: #D2E3FC;\n",
              "      --hover-bg-color: #434B5C;\n",
              "      --hover-fill-color: #FFFFFF;\n",
              "      --disabled-bg-color: #3B4455;\n",
              "      --disabled-fill-color: #666;\n",
              "  }\n",
              "\n",
              "  .colab-df-quickchart {\n",
              "    background-color: var(--bg-color);\n",
              "    border: none;\n",
              "    border-radius: 50%;\n",
              "    cursor: pointer;\n",
              "    display: none;\n",
              "    fill: var(--fill-color);\n",
              "    height: 32px;\n",
              "    padding: 0;\n",
              "    width: 32px;\n",
              "  }\n",
              "\n",
              "  .colab-df-quickchart:hover {\n",
              "    background-color: var(--hover-bg-color);\n",
              "    box-shadow: 0 1px 2px rgba(60, 64, 67, 0.3), 0 1px 3px 1px rgba(60, 64, 67, 0.15);\n",
              "    fill: var(--button-hover-fill-color);\n",
              "  }\n",
              "\n",
              "  .colab-df-quickchart-complete:disabled,\n",
              "  .colab-df-quickchart-complete:disabled:hover {\n",
              "    background-color: var(--disabled-bg-color);\n",
              "    fill: var(--disabled-fill-color);\n",
              "    box-shadow: none;\n",
              "  }\n",
              "\n",
              "  .colab-df-spinner {\n",
              "    border: 2px solid var(--fill-color);\n",
              "    border-color: transparent;\n",
              "    border-bottom-color: var(--fill-color);\n",
              "    animation:\n",
              "      spin 1s steps(1) infinite;\n",
              "  }\n",
              "\n",
              "  @keyframes spin {\n",
              "    0% {\n",
              "      border-color: transparent;\n",
              "      border-bottom-color: var(--fill-color);\n",
              "      border-left-color: var(--fill-color);\n",
              "    }\n",
              "    20% {\n",
              "      border-color: transparent;\n",
              "      border-left-color: var(--fill-color);\n",
              "      border-top-color: var(--fill-color);\n",
              "    }\n",
              "    30% {\n",
              "      border-color: transparent;\n",
              "      border-left-color: var(--fill-color);\n",
              "      border-top-color: var(--fill-color);\n",
              "      border-right-color: var(--fill-color);\n",
              "    }\n",
              "    40% {\n",
              "      border-color: transparent;\n",
              "      border-right-color: var(--fill-color);\n",
              "      border-top-color: var(--fill-color);\n",
              "    }\n",
              "    60% {\n",
              "      border-color: transparent;\n",
              "      border-right-color: var(--fill-color);\n",
              "    }\n",
              "    80% {\n",
              "      border-color: transparent;\n",
              "      border-right-color: var(--fill-color);\n",
              "      border-bottom-color: var(--fill-color);\n",
              "    }\n",
              "    90% {\n",
              "      border-color: transparent;\n",
              "      border-bottom-color: var(--fill-color);\n",
              "    }\n",
              "  }\n",
              "</style>\n",
              "\n",
              "  <script>\n",
              "    async function quickchart(key) {\n",
              "      const quickchartButtonEl =\n",
              "        document.querySelector('#' + key + ' button');\n",
              "      quickchartButtonEl.disabled = true;  // To prevent multiple clicks.\n",
              "      quickchartButtonEl.classList.add('colab-df-spinner');\n",
              "      try {\n",
              "        const charts = await google.colab.kernel.invokeFunction(\n",
              "            'suggestCharts', [key], {});\n",
              "      } catch (error) {\n",
              "        console.error('Error during call to suggestCharts:', error);\n",
              "      }\n",
              "      quickchartButtonEl.classList.remove('colab-df-spinner');\n",
              "      quickchartButtonEl.classList.add('colab-df-quickchart-complete');\n",
              "    }\n",
              "    (() => {\n",
              "      let quickchartButtonEl =\n",
              "        document.querySelector('#df-d6b3501b-7e52-41e8-8947-4489a116eb24 button');\n",
              "      quickchartButtonEl.style.display =\n",
              "        google.colab.kernel.accessAllowed ? 'block' : 'none';\n",
              "    })();\n",
              "  </script>\n",
              "</div>\n",
              "    </div>\n",
              "  </div>\n"
            ]
          },
          "metadata": {},
          "execution_count": 3
        }
      ],
      "source": [
        "#Load the data from csv file\n",
        "data = pd.read_csv('diabetes.csv')\n",
        "\n",
        "data.head()"
      ]
    },
    {
      "cell_type": "markdown",
      "source": [
        "a) Set a seed (to ensure work reproducibility) and take a random sample of 25 observations and find the mean Glucose and highest Glucose values of this sample and compare these statistics with the population statistics of the same variable. You should use charts for this comparison."
      ],
      "metadata": {
        "id": "CMrDC--AGgYA"
      },
      "id": "CMrDC--AGgYA"
    },
    {
      "cell_type": "code",
      "execution_count": 5,
      "id": "0b175374",
      "metadata": {
        "id": "0b175374"
      },
      "outputs": [],
      "source": [
        "# Set seed for reproducibility\n",
        "np.random.seed(42)\n",
        "\n",
        "# Take a random sample of 25 observations\n",
        "sample = data.sample(n=25)"
      ]
    },
    {
      "cell_type": "code",
      "source": [
        "#printing null values\n",
        "missing_values = data.isnull().sum()\n",
        "\n",
        "missing_values"
      ],
      "metadata": {
        "colab": {
          "base_uri": "https://localhost:8080/"
        },
        "id": "CusY5eO4Fim8",
        "outputId": "e385394e-f7fb-42dd-e15c-d738e532d09d"
      },
      "id": "CusY5eO4Fim8",
      "execution_count": 6,
      "outputs": [
        {
          "output_type": "execute_result",
          "data": {
            "text/plain": [
              "Pregnancies                 0\n",
              "Glucose                     0\n",
              "BloodPressure               0\n",
              "SkinThickness               0\n",
              "Insulin                     0\n",
              "BMI                         0\n",
              "DiabetesPedigreeFunction    0\n",
              "Age                         0\n",
              "Outcome                     0\n",
              "dtype: int64"
            ]
          },
          "metadata": {},
          "execution_count": 6
        }
      ]
    },
    {
      "cell_type": "code",
      "execution_count": 7,
      "id": "3e73f273",
      "metadata": {
        "id": "3e73f273"
      },
      "outputs": [],
      "source": [
        "# Calculate mean and highest Glucose values for the sample\n",
        "sample_mean_glucose = sample['Glucose'].mean()\n",
        "sample_highest_glucose = sample['Glucose'].max()"
      ]
    },
    {
      "cell_type": "code",
      "execution_count": 8,
      "id": "25e78ba1",
      "metadata": {
        "id": "25e78ba1"
      },
      "outputs": [],
      "source": [
        "# Calculate population mean and highest Glucose values\n",
        "population_mean_glucose = data['Glucose'].mean()\n",
        "population_highest_glucose = data['Glucose'].max()"
      ]
    },
    {
      "cell_type": "code",
      "execution_count": 9,
      "id": "304c832a",
      "metadata": {
        "colab": {
          "base_uri": "https://localhost:8080/"
        },
        "id": "304c832a",
        "outputId": "47849bad-9fea-44e3-d021-49096b890b0c"
      },
      "outputs": [
        {
          "output_type": "stream",
          "name": "stdout",
          "text": [
            "Sample Mean Glucose: 116.64\n",
            "Sample Highest Glucose: 183\n",
            "\n",
            "Population Mean Glucose: 120.89453125\n",
            "Population Highest Glucose: 199\n"
          ]
        }
      ],
      "source": [
        "# Display the statistics\n",
        "print(\"Sample Mean Glucose:\", sample_mean_glucose)\n",
        "print(\"Sample Highest Glucose:\", sample_highest_glucose)\n",
        "print(\"\\nPopulation Mean Glucose:\", population_mean_glucose)\n",
        "print(\"Population Highest Glucose:\", population_highest_glucose)"
      ]
    },
    {
      "cell_type": "code",
      "execution_count": 11,
      "id": "c1bd4352",
      "metadata": {
        "colab": {
          "base_uri": "https://localhost:8080/",
          "height": 887
        },
        "id": "c1bd4352",
        "outputId": "e26e2211-130f-4a10-fed2-cda35298117c"
      },
      "outputs": [
        {
          "output_type": "display_data",
          "data": {
            "text/plain": [
              "<Figure size 640x480 with 1 Axes>"
            ],
            "image/png": "[encoded data removed]"
          },
          "metadata": {}
        },
        {
          "output_type": "display_data",
          "data": {
            "text/plain": [
              "<Figure size 640x480 with 1 Axes>"
            ],
            "image/png": "[encoded data removed]"
          },
          "metadata": {}
        }
      ],
      "source": [
        "# Create a bar chart for comparing Sample Mean & Sample Highest\n",
        "labels = ['Sample Mean', 'Sample Highest']\n",
        "values = [sample_mean_glucose, sample_highest_glucose]\n",
        "\n",
        "plt.bar(labels, values, color=['blue', 'green'])\n",
        "plt.title('Comparison of Glucose Statistics')\n",
        "plt.ylabel('Glucose Values')\n",
        "plt.show()\n",
        "\n",
        "# Create a bar chart for Population Mean & Population Highest\n",
        "labels_1= ['Population Mean', 'Population Highest']\n",
        "values_1= [population_mean_glucose, population_highest_glucose]\n",
        "plt.bar(labels_1, values_1, color=['orange', 'red'])\n",
        "plt.title('Comparison of Glucose Statistics')\n",
        "plt.ylabel('Glucose Values')\n",
        "plt.show()"
      ]
    },
    {
      "cell_type": "markdown",
      "source": [
        "b)Find the 98th percentile of BMI of your sample and the population and compare the results using charts"
      ],
      "metadata": {
        "id": "UaasLu-wH4FH"
      },
      "id": "UaasLu-wH4FH"
    },
    {
      "cell_type": "code",
      "execution_count": 12,
      "id": "0331eea0",
      "metadata": {
        "id": "0331eea0"
      },
      "outputs": [],
      "source": [
        "# Calculate the 98th percentile of BMI for the sample\n",
        "sample_98th_percentile_bmi = np.percentile(sample['BMI'], 98)\n",
        "\n",
        "# Calculate the 98th percentile of BMI for the population\n",
        "population_98th_percentile_bmi = np.percentile(data['BMI'], 98)"
      ]
    },
    {
      "cell_type": "code",
      "execution_count": 13,
      "id": "57093335",
      "metadata": {
        "colab": {
          "base_uri": "https://localhost:8080/"
        },
        "id": "57093335",
        "outputId": "fc364a9e-f5eb-4322-b1bc-7f2a0db4e596"
      },
      "outputs": [
        {
          "output_type": "stream",
          "name": "stdout",
          "text": [
            "Sample 98th Percentile BMI: 40.248\n",
            "Population 98th Percentile BMI: 47.52599999999996\n"
          ]
        }
      ],
      "source": [
        "# Display the percentiles\n",
        "print(\"Sample 98th Percentile BMI:\", sample_98th_percentile_bmi)\n",
        "print(\"Population 98th Percentile BMI:\", population_98th_percentile_bmi)"
      ]
    },
    {
      "cell_type": "code",
      "execution_count": 14,
      "id": "1379ac27",
      "metadata": {
        "colab": {
          "base_uri": "https://localhost:8080/",
          "height": 452
        },
        "id": "1379ac27",
        "outputId": "4278ddcc-2417-4cc8-8417-92473e5732b2"
      },
      "outputs": [
        {
          "output_type": "display_data",
          "data": {
            "text/plain": [
              "<Figure size 640x480 with 1 Axes>"
            ],
            "image/png": "[encoded data removed]"
          },
          "metadata": {}
        }
      ],
      "source": [
        "# Create a bar chart for comparison\n",
        "labels = ['Sample 98th Percentile BMI', 'Population 98th Percentile BMI']\n",
        "values = [sample_98th_percentile_bmi, population_98th_percentile_bmi]\n",
        "\n",
        "plt.bar(labels, values, color=['green', 'orange'])\n",
        "plt.title('Comparison of 98th Percentile BMI')\n",
        "plt.ylabel('BMI Values')\n",
        "plt.show()"
      ]
    },
    {
      "cell_type": "markdown",
      "source": [
        "c)Using bootstrap (replace= True), create 500 samples (of 150 observation each) from the population and find the average mean, standard deviation and percentile for BloodPressure and compare this with these statistics from the population for the same variable. Again, you should create charts for this comparison. Report on your findings"
      ],
      "metadata": {
        "id": "KqAuI5EkILe0"
      },
      "id": "KqAuI5EkILe0"
    },
    {
      "cell_type": "code",
      "execution_count": 15,
      "id": "bcddc8fe",
      "metadata": {
        "id": "bcddc8fe"
      },
      "outputs": [],
      "source": [
        "# Number of bootstrap samples and size of each sample\n",
        "num_samples = 500\n",
        "sample_size = 150"
      ]
    },
    {
      "cell_type": "code",
      "execution_count": 16,
      "id": "9e10ea56",
      "metadata": {
        "id": "9e10ea56"
      },
      "outputs": [],
      "source": [
        "# Initialize empty arrays to store bootstrap statistics\n",
        "bootstrap_means = np.zeros(num_samples)\n",
        "bootstrap_std_devs = np.zeros(num_samples)\n",
        "bootstrap_percentiles = np.zeros(num_samples)"
      ]
    },
    {
      "cell_type": "code",
      "execution_count": 17,
      "id": "05db9226",
      "metadata": {
        "id": "05db9226"
      },
      "outputs": [],
      "source": [
        "# Perform bootstrap sampling\n",
        "for i in range(num_samples):\n",
        "    # Generate a bootstrap sample with replacement\n",
        "    bootstrap_sample = np.random.choice(data['BloodPressure'], size=sample_size, replace=True)\n",
        "\n",
        "    # Calculate mean, standard deviation, and 95th percentile for the bootstrap sample\n",
        "    bootstrap_means[i] = np.mean(bootstrap_sample)\n",
        "    bootstrap_std_devs[i] = np.std(bootstrap_sample)\n",
        "    bootstrap_percentiles[i] = np.percentile(bootstrap_sample, 95)"
      ]
    },
    {
      "cell_type": "code",
      "execution_count": 18,
      "id": "ca92b303",
      "metadata": {
        "id": "ca92b303"
      },
      "outputs": [],
      "source": [
        "# Calculate population statistics for BloodPressure\n",
        "population_mean_bp = data['BloodPressure'].mean()\n",
        "population_std_dev_bp = data['BloodPressure'].std()\n",
        "population_percentile_95_bp = np.percentile(data['BloodPressure'], 95)"
      ]
    },
    {
      "cell_type": "code",
      "execution_count": 19,
      "id": "36498e9d",
      "metadata": {
        "colab": {
          "base_uri": "https://localhost:8080/"
        },
        "id": "36498e9d",
        "outputId": "f393e3a6-3826-46b5-96ea-79a6b16a4c5f"
      },
      "outputs": [
        {
          "output_type": "stream",
          "name": "stdout",
          "text": [
            "Population Mean BloodPressure: 69.10546875\n",
            "Population Standard Deviation BloodPressure: 19.355807170644777\n",
            "Population 95th Percentile BloodPressure: 90.0\n"
          ]
        }
      ],
      "source": [
        "# Display the population statistics\n",
        "print(\"Population Mean BloodPressure:\", population_mean_bp)\n",
        "print(\"Population Standard Deviation BloodPressure:\", population_std_dev_bp)\n",
        "print(\"Population 95th Percentile BloodPressure:\", population_percentile_95_bp)"
      ]
    },
    {
      "cell_type": "code",
      "execution_count": 21,
      "id": "76cd7ff8",
      "metadata": {
        "id": "76cd7ff8"
      },
      "outputs": [],
      "source": [
        "# Calculate mean, standard deviation, and 95th percentile for the bootstrap statistics\n",
        "bootstrap_mean_mean = np.mean(bootstrap_means)\n",
        "bootstrap_mean_std_dev = np.mean(bootstrap_std_devs)\n",
        "bootstrap_mean_percentile_95 = np.mean(bootstrap_percentiles)"
      ]
    },
    {
      "cell_type": "code",
      "execution_count": 22,
      "id": "8f84fa20",
      "metadata": {
        "colab": {
          "base_uri": "https://localhost:8080/"
        },
        "id": "8f84fa20",
        "outputId": "dd81904c-4d97-41ad-bb12-24f8014d2a68"
      },
      "outputs": [
        {
          "output_type": "stream",
          "name": "stdout",
          "text": [
            "\n",
            "Bootstrap Mean BloodPressure: 69.17696\n",
            "Bootstrap Standard Deviation BloodPressure: 19.01902467947537\n",
            "Bootstrap 95th Percentile BloodPressure: 91.12039999999996\n"
          ]
        }
      ],
      "source": [
        "# Display the bootstrap statistics\n",
        "print(\"\\nBootstrap Mean BloodPressure:\", bootstrap_mean_mean)\n",
        "print(\"Bootstrap Standard Deviation BloodPressure:\", bootstrap_mean_std_dev)\n",
        "print(\"Bootstrap 95th Percentile BloodPressure:\", bootstrap_mean_percentile_95)"
      ]
    },
    {
      "cell_type": "code",
      "execution_count": 35,
      "id": "3f61d97f",
      "metadata": {
        "colab": {
          "base_uri": "https://localhost:8080/",
          "height": 853
        },
        "id": "3f61d97f",
        "outputId": "63910d8d-4299-4806-9498-ada52e312fa0"
      },
      "outputs": [
        {
          "output_type": "display_data",
          "data": {
            "text/plain": [
              "<Figure size 1600x1000 with 1 Axes>"
            ],
            "image/png": "[encoded data removed]"
          },
          "metadata": {}
        }
      ],
      "source": [
        "# Create a bar chart for comparison\n",
        "plt.figure(figsize=(16, 10))\n",
        "labels = ['Population Mean', 'Bootstrap Mean', 'Population Std Dev', 'Bootstrap Std Dev', 'Population 95th Percentile', 'Bootstrap 95th Percentile']\n",
        "values = [population_mean_bp, bootstrap_mean_mean, population_std_dev_bp, bootstrap_mean_std_dev, population_percentile_95_bp, bootstrap_mean_percentile_95]\n",
        "\n",
        "plt.bar(labels, values, color=['blue', 'green', 'orange', 'purple', 'red', 'brown'])\n",
        "plt.title('Comparison of BloodPressure Statistics (Population vs Bootstrap)')\n",
        "plt.ylabel('BloodPressure Values')\n",
        "plt.show()\n"
      ]
    },
    {
      "cell_type": "code",
      "execution_count": null,
      "id": "13857b17",
      "metadata": {
        "id": "13857b17"
      },
      "outputs": [],
      "source": []
    }
  ],
  "metadata": {
    "kernelspec": {
      "display_name": "Python 3 (ipykernel)",
      "language": "python",
      "name": "python3"
    },
    "language_info": {
      "codemirror_mode": {
        "name": "ipython",
        "version": 3
      },
      "file_extension": ".py",
      "mimetype": "text/x-python",
      "name": "python",
      "nbconvert_exporter": "python",
      "pygments_lexer": "ipython3",
      "version": "3.11.4"
    },
    "colab": {
      "provenance": []
    }
  },
  "nbformat": 4,
  "nbformat_minor": 5
}